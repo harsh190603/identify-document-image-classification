{
  "nbformat": 4,
  "nbformat_minor": 0,
  "metadata": {
    "colab": {
      "provenance": [],
      "authorship_tag": "ABX9TyNImXxQhd/bVszxtMvxAQ6e",
      "include_colab_link": true
    },
    "kernelspec": {
      "name": "python3",
      "display_name": "Python 3"
    },
    "language_info": {
      "name": "python"
    }
  },
  "cells": [
    {
      "cell_type": "markdown",
      "metadata": {
        "id": "view-in-github",
        "colab_type": "text"
      },
      "source": [
        "<a href=\"https://colab.research.google.com/github/harsh190603/image_processing_and_computer_vision/blob/main/Assignment%202/A2Q2.ipynb\" target=\"_parent\"><img src=\"https://colab.research.google.com/assets/colab-badge.svg\" alt=\"Open In Colab\"/></a>"
      ]
    },
    {
      "cell_type": "code",
      "execution_count": null,
      "metadata": {
        "colab": {
          "base_uri": "https://localhost:8080/",
          "height": 334
        },
        "id": "lT3cAKc6HdVb",
        "outputId": "25dd38f0-4b74-433b-e64f-49b46c5a2b4d"
      },
      "outputs": [
        {
          "name": "stdout",
          "output_type": "stream",
          "text": [
            "Enter a number : 0934090\n"
          ]
        },
        {
          "output_type": "display_data",
          "data": {
            "text/plain": [
              "<PIL.Image.Image image mode=RGB size=500x300 at 0x7F1690D44BE0>"
            ],
            "image/png": "[encoded data removed]"
          },
          "metadata": {}
        }
      ],
      "source": [
        "from PIL import Image\n",
        "import cv2\n",
        "import numpy\n",
        "from google.colab.patches import cv2_imshow\n",
        "\n",
        "def draw_circle(img_1,x,y):\n",
        "    img_2=img_1.copy()\n",
        "    for m in range(x-25,x+25):\n",
        "        for n in range(y-25,y+25):\n",
        "            for k in range(3):\n",
        "                if ((m-x)**2)+((n-y)**2)<=625:\n",
        "                    img_2[n][m][k]=255\n",
        "\n",
        "    return img_2\n",
        "\n",
        "num = input (\"Enter a number : \")\n",
        "digit=[int((int(num)%100)/10),int(num)%10]\n",
        "\n",
        "img1=Image.new(mode=\"RGB\", size=(300,250),color=0)\n",
        "img2=Image.new(mode=\"RGB\", size=(300,250),color=0)\n",
        "\n",
        "photo=[numpy.asarray(img1), numpy.asarray(img2)]\n",
        "\n",
        "for p in range(2):\n",
        "    for j in range(61,247,62):\n",
        "            for i in range(49,299,50):\n",
        "                if j==61:\n",
        "                    if i==49:\n",
        "                        a=[0,2,3,4,5,6,7,8,9]\n",
        "                        if digit[p] in a:\n",
        "                            photo[p]=draw_circle(photo[p],i,j)\n",
        "                    elif i==99:\n",
        "                        a=[0,4,5,6,8,9]\n",
        "                        if digit[p] in a:\n",
        "                            photo[p]=draw_circle(photo[p],i,j)\n",
        "                    elif i==149:\n",
        "                        a=[0,2,3,4,5,6,8,9]\n",
        "                        if digit[p] in a:\n",
        "                            photo[p]=draw_circle(photo[p],i,j)\n",
        "                    elif i==199:\n",
        "                        a=[0,2,6,8]\n",
        "                        if digit[p] in a:\n",
        "                            photo[p]=draw_circle(photo[p],i,j)\n",
        "                    elif i==249:\n",
        "                        a=[0,2,3,5,6,8,9]\n",
        "                        if digit[p] in a:\n",
        "                            photo[p]=draw_circle(photo[p],i,j)\n",
        "                elif j==123:\n",
        "                    if i==49:\n",
        "                        a=[0,2,3,5,6,7,8,9]\n",
        "                        if digit[p] in a:\n",
        "                            photo[p]=draw_circle(photo[p],i,j)\n",
        "                    elif i==99:\n",
        "                        a=[]\n",
        "                        if digit[p] in a:\n",
        "                            photo[p]=draw_circle(photo[p],i,j)\n",
        "                    elif i==149:\n",
        "                        a=[2,3,4,5,6,8,9]\n",
        "                        if digit[p] in a:\n",
        "                            photo[p]=draw_circle(photo[p],i,j)\n",
        "                    elif i==199:\n",
        "                        a=[]\n",
        "                        if digit[p] in a:\n",
        "                            photo[p]=draw_circle(photo[p],i,j)\n",
        "                    elif i==249:\n",
        "                        a=[0,2,3,5,6,8,9]\n",
        "                        if digit[p] in a:\n",
        "                            photo[p]=draw_circle(photo[p],i,j)\n",
        "                    del a\n",
        "                elif j==185:\n",
        "                    if i==49:\n",
        "                        a=[0,1,2,3,4,5,6,7,8,9]\n",
        "                        if digit[p] in a:\n",
        "                            photo[p]=draw_circle(photo[p],i,j)\n",
        "                    elif i==99:\n",
        "                        a=[0,1,2,3,4,7,8,9]\n",
        "                        if digit[p] in a:\n",
        "                            photo[p]=draw_circle(photo[p],i,j)\n",
        "                    elif i==149:\n",
        "                        a=[0,1,2,3,4,5,6,7,8,9]\n",
        "                        if digit[p] in a:\n",
        "                            photo[p]=draw_circle(photo[p],i,j)\n",
        "                    elif i==199:\n",
        "                        a=[0,1,3,4,5,6,7,8,9]\n",
        "                        if digit[p] in a:\n",
        "                            photo[p]=draw_circle(photo[p],i,j)\n",
        "                    elif i==249:\n",
        "                        a=[0,1,2,3,4,5,6,7,8,9]\n",
        "                        if digit[p] in a:\n",
        "                            photo[p]=draw_circle(photo[p],i,j)\n",
        "                    del a\n",
        "\n",
        "photo_1t=numpy.transpose(photo[0],axes=[1,0,2])\n",
        "\n",
        "photo_2t=numpy.transpose(photo[1],axes=[1,0,2])\n",
        "\n",
        "final_image_2 = numpy.concatenate((photo_1t, photo_2t), axis=1)\n",
        "\n",
        "#print(numpy.shape(final_image_2))\n",
        "\n",
        "cv2_imshow(final_image_2)\n",
        "#cv2.waitKey(0)\n",
        "\n",
        "#cv2.destroyAllWindows()"
      ]
    }
  ]
}